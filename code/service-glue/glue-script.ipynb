{
 "cells": [
  {
   "cell_type": "code",
   "execution_count": 1,
   "id": "a14b526e",
   "metadata": {},
   "outputs": [],
   "source": [
    "import sys\n",
    "from awsglue.transforms import *\n",
    "from awsglue.utils import getResolvedOptions\n",
    "from pyspark.context import SparkContext\n",
    "from awsglue.context import GlueContext\n",
    "from awsglue.job import Job\n",
    "\n",
    "from awsglue.dynamicframe import DynamicFrame\n",
    "\n",
    "from pyspark.sql import SparkSession\n",
    "from pyspark.sql.functions import *\n",
    "\n",
    "import boto3\n",
    "from botocore.exceptions import ClientError"
   ]
  },
  {
   "cell_type": "markdown",
   "id": "414fac2f",
   "metadata": {},
   "source": [
    "# Glue"
   ]
  },
  {
   "cell_type": "code",
   "execution_count": 2,
   "id": "c3237ccf",
   "metadata": {
    "scrolled": true
   },
   "outputs": [
    {
     "data": {
      "text/plain": [
       "{'job_bookmark_option': 'job-bookmark-disable',\n",
       " 'job_bookmark_from': None,\n",
       " 'job_bookmark_to': None,\n",
       " 'JOB_ID': None,\n",
       " 'JOB_RUN_ID': None,\n",
       " 'SECURITY_CONFIGURATION': None,\n",
       " 'encryption_type': None,\n",
       " 'enable_data_lineage': None,\n",
       " 'RedshiftTempDir': None,\n",
       " 'TempDir': None,\n",
       " 'JOB_NAME': 'TEST_JOB'}"
      ]
     },
     "execution_count": 2,
     "metadata": {},
     "output_type": "execute_result"
    }
   ],
   "source": [
    "sys.argv +=[\"--JOB_NAME\", \"TEST_JOB\"]\n",
    "args = getResolvedOptions(sys.argv, [\"JOB_NAME\"])\n",
    "args"
   ]
  },
  {
   "cell_type": "code",
   "execution_count": 3,
   "id": "2641b73f",
   "metadata": {},
   "outputs": [],
   "source": [
    "sc = SparkContext.getOrCreate()\n",
    "glueContext = GlueContext(sc)\n",
    "spark = glueContext.spark_session\n",
    "job = Job(glueContext)"
   ]
  },
  {
   "cell_type": "code",
   "execution_count": 8,
   "id": "b68cfc98",
   "metadata": {},
   "outputs": [
    {
     "ename": "KeyboardInterrupt",
     "evalue": "",
     "output_type": "error",
     "traceback": [
      "\u001b[0;31m\u001b[0m",
      "\u001b[0;31mKeyboardInterrupt\u001b[0mTraceback (most recent call last)",
      "\u001b[0;32m<ipython-input-8-a5621dd01ecf>\u001b[0m in \u001b[0;36m<module>\u001b[0;34m\u001b[0m\n\u001b[1;32m      1\u001b[0m data = glueContext.create_dynamic_frame.from_catalog(\n\u001b[1;32m      2\u001b[0m              \u001b[0mdatabase\u001b[0m\u001b[0;34m=\u001b[0m\u001b[0;34m\"test-s3\"\u001b[0m\u001b[0;34m,\u001b[0m\u001b[0;34m\u001b[0m\u001b[0;34m\u001b[0m\u001b[0m\n\u001b[0;32m----> 3\u001b[0;31m              table_name=\"test-s3-table\")\n\u001b[0m",
      "\u001b[0;32m/home/aws-glue-libs/awsglue.zip/awsglue/dynamicframe.py\u001b[0m in \u001b[0;36mfrom_catalog\u001b[0;34m(self, database, table_name, redshift_tmp_dir, transformation_ctx, push_down_predicate, additional_options, catalog_id, **kwargs)\u001b[0m\n\u001b[1;32m    623\u001b[0m             \u001b[0;32mraise\u001b[0m \u001b[0mException\u001b[0m\u001b[0;34m(\u001b[0m\u001b[0;34m\"Parameter table_name is missing.\"\u001b[0m\u001b[0;34m)\u001b[0m\u001b[0;34m\u001b[0m\u001b[0;34m\u001b[0m\u001b[0m\n\u001b[1;32m    624\u001b[0m \u001b[0;34m\u001b[0m\u001b[0m\n\u001b[0;32m--> 625\u001b[0;31m         \u001b[0;32mreturn\u001b[0m \u001b[0mself\u001b[0m\u001b[0;34m.\u001b[0m\u001b[0m_glue_context\u001b[0m\u001b[0;34m.\u001b[0m\u001b[0mcreate_dynamic_frame_from_catalog\u001b[0m\u001b[0;34m(\u001b[0m\u001b[0mdb\u001b[0m\u001b[0;34m,\u001b[0m \u001b[0mtable_name\u001b[0m\u001b[0;34m,\u001b[0m \u001b[0mredshift_tmp_dir\u001b[0m\u001b[0;34m,\u001b[0m \u001b[0mtransformation_ctx\u001b[0m\u001b[0;34m,\u001b[0m \u001b[0mpush_down_predicate\u001b[0m\u001b[0;34m,\u001b[0m \u001b[0madditional_options\u001b[0m\u001b[0;34m,\u001b[0m \u001b[0mcatalog_id\u001b[0m\u001b[0;34m,\u001b[0m \u001b[0;34m**\u001b[0m\u001b[0mkwargs\u001b[0m\u001b[0;34m)\u001b[0m\u001b[0;34m\u001b[0m\u001b[0;34m\u001b[0m\u001b[0m\n\u001b[0m\u001b[1;32m    626\u001b[0m \u001b[0;34m\u001b[0m\u001b[0m\n\u001b[1;32m    627\u001b[0m \u001b[0;34m\u001b[0m\u001b[0m\n",
      "\u001b[0;32m/home/aws-glue-libs/awsglue.zip/awsglue/context.py\u001b[0m in \u001b[0;36mcreate_dynamic_frame_from_catalog\u001b[0;34m(self, database, table_name, redshift_tmp_dir, transformation_ctx, push_down_predicate, additional_options, catalog_id, **kwargs)\u001b[0m\n\u001b[1;32m    151\u001b[0m         source = DataSource(self._ssql_ctx.getCatalogSource(db, table_name, redshift_tmp_dir, transformation_ctx,\n\u001b[1;32m    152\u001b[0m                                                             \u001b[0mpush_down_predicate\u001b[0m\u001b[0;34m,\u001b[0m\u001b[0;34m\u001b[0m\u001b[0;34m\u001b[0m\u001b[0m\n\u001b[0;32m--> 153\u001b[0;31m                                                             makeOptions(self._sc, additional_options), catalog_id),\n\u001b[0m\u001b[1;32m    154\u001b[0m                             self, table_name)\n\u001b[1;32m    155\u001b[0m         \u001b[0;32mreturn\u001b[0m \u001b[0msource\u001b[0m\u001b[0;34m.\u001b[0m\u001b[0mgetFrame\u001b[0m\u001b[0;34m(\u001b[0m\u001b[0;34m**\u001b[0m\u001b[0mkwargs\u001b[0m\u001b[0;34m)\u001b[0m\u001b[0;34m\u001b[0m\u001b[0;34m\u001b[0m\u001b[0m\n",
      "\u001b[0;32m/home/spark-2.4.3-bin-spark-2.4.3-bin-hadoop2.8/python/lib/py4j-0.10.7-src.zip/py4j/java_gateway.py\u001b[0m in \u001b[0;36m__call__\u001b[0;34m(self, *args)\u001b[0m\n\u001b[1;32m   1253\u001b[0m             \u001b[0mproto\u001b[0m\u001b[0;34m.\u001b[0m\u001b[0mEND_COMMAND_PART\u001b[0m\u001b[0;34m\u001b[0m\u001b[0;34m\u001b[0m\u001b[0m\n\u001b[1;32m   1254\u001b[0m \u001b[0;34m\u001b[0m\u001b[0m\n\u001b[0;32m-> 1255\u001b[0;31m         \u001b[0manswer\u001b[0m \u001b[0;34m=\u001b[0m \u001b[0mself\u001b[0m\u001b[0;34m.\u001b[0m\u001b[0mgateway_client\u001b[0m\u001b[0;34m.\u001b[0m\u001b[0msend_command\u001b[0m\u001b[0;34m(\u001b[0m\u001b[0mcommand\u001b[0m\u001b[0;34m)\u001b[0m\u001b[0;34m\u001b[0m\u001b[0;34m\u001b[0m\u001b[0m\n\u001b[0m\u001b[1;32m   1256\u001b[0m         return_value = get_return_value(\n\u001b[1;32m   1257\u001b[0m             answer, self.gateway_client, self.target_id, self.name)\n",
      "\u001b[0;32m/home/spark-2.4.3-bin-spark-2.4.3-bin-hadoop2.8/python/lib/py4j-0.10.7-src.zip/py4j/java_gateway.py\u001b[0m in \u001b[0;36msend_command\u001b[0;34m(self, command, retry, binary)\u001b[0m\n\u001b[1;32m    983\u001b[0m         \u001b[0mconnection\u001b[0m \u001b[0;34m=\u001b[0m \u001b[0mself\u001b[0m\u001b[0;34m.\u001b[0m\u001b[0m_get_connection\u001b[0m\u001b[0;34m(\u001b[0m\u001b[0;34m)\u001b[0m\u001b[0;34m\u001b[0m\u001b[0;34m\u001b[0m\u001b[0m\n\u001b[1;32m    984\u001b[0m         \u001b[0;32mtry\u001b[0m\u001b[0;34m:\u001b[0m\u001b[0;34m\u001b[0m\u001b[0;34m\u001b[0m\u001b[0m\n\u001b[0;32m--> 985\u001b[0;31m             \u001b[0mresponse\u001b[0m \u001b[0;34m=\u001b[0m \u001b[0mconnection\u001b[0m\u001b[0;34m.\u001b[0m\u001b[0msend_command\u001b[0m\u001b[0;34m(\u001b[0m\u001b[0mcommand\u001b[0m\u001b[0;34m)\u001b[0m\u001b[0;34m\u001b[0m\u001b[0;34m\u001b[0m\u001b[0m\n\u001b[0m\u001b[1;32m    986\u001b[0m             \u001b[0;32mif\u001b[0m \u001b[0mbinary\u001b[0m\u001b[0;34m:\u001b[0m\u001b[0;34m\u001b[0m\u001b[0;34m\u001b[0m\u001b[0m\n\u001b[1;32m    987\u001b[0m                 \u001b[0;32mreturn\u001b[0m \u001b[0mresponse\u001b[0m\u001b[0;34m,\u001b[0m \u001b[0mself\u001b[0m\u001b[0;34m.\u001b[0m\u001b[0m_create_connection_guard\u001b[0m\u001b[0;34m(\u001b[0m\u001b[0mconnection\u001b[0m\u001b[0;34m)\u001b[0m\u001b[0;34m\u001b[0m\u001b[0;34m\u001b[0m\u001b[0m\n",
      "\u001b[0;32m/home/spark-2.4.3-bin-spark-2.4.3-bin-hadoop2.8/python/lib/py4j-0.10.7-src.zip/py4j/java_gateway.py\u001b[0m in \u001b[0;36msend_command\u001b[0;34m(self, command)\u001b[0m\n\u001b[1;32m   1150\u001b[0m \u001b[0;34m\u001b[0m\u001b[0m\n\u001b[1;32m   1151\u001b[0m         \u001b[0;32mtry\u001b[0m\u001b[0;34m:\u001b[0m\u001b[0;34m\u001b[0m\u001b[0;34m\u001b[0m\u001b[0m\n\u001b[0;32m-> 1152\u001b[0;31m             \u001b[0manswer\u001b[0m \u001b[0;34m=\u001b[0m \u001b[0msmart_decode\u001b[0m\u001b[0;34m(\u001b[0m\u001b[0mself\u001b[0m\u001b[0;34m.\u001b[0m\u001b[0mstream\u001b[0m\u001b[0;34m.\u001b[0m\u001b[0mreadline\u001b[0m\u001b[0;34m(\u001b[0m\u001b[0;34m)\u001b[0m\u001b[0;34m[\u001b[0m\u001b[0;34m:\u001b[0m\u001b[0;34m-\u001b[0m\u001b[0;36m1\u001b[0m\u001b[0;34m]\u001b[0m\u001b[0;34m)\u001b[0m\u001b[0;34m\u001b[0m\u001b[0;34m\u001b[0m\u001b[0m\n\u001b[0m\u001b[1;32m   1153\u001b[0m             \u001b[0mlogger\u001b[0m\u001b[0;34m.\u001b[0m\u001b[0mdebug\u001b[0m\u001b[0;34m(\u001b[0m\u001b[0;34m\"Answer received: {0}\"\u001b[0m\u001b[0;34m.\u001b[0m\u001b[0mformat\u001b[0m\u001b[0;34m(\u001b[0m\u001b[0manswer\u001b[0m\u001b[0;34m)\u001b[0m\u001b[0;34m)\u001b[0m\u001b[0;34m\u001b[0m\u001b[0;34m\u001b[0m\u001b[0m\n\u001b[1;32m   1154\u001b[0m             \u001b[0;32mif\u001b[0m \u001b[0manswer\u001b[0m\u001b[0;34m.\u001b[0m\u001b[0mstartswith\u001b[0m\u001b[0;34m(\u001b[0m\u001b[0mproto\u001b[0m\u001b[0;34m.\u001b[0m\u001b[0mRETURN_MESSAGE\u001b[0m\u001b[0;34m)\u001b[0m\u001b[0;34m:\u001b[0m\u001b[0;34m\u001b[0m\u001b[0;34m\u001b[0m\u001b[0m\n",
      "\u001b[0;32m/usr/local/lib/python3.6/socket.py\u001b[0m in \u001b[0;36mreadinto\u001b[0;34m(self, b)\u001b[0m\n\u001b[1;32m    584\u001b[0m         \u001b[0;32mwhile\u001b[0m \u001b[0;32mTrue\u001b[0m\u001b[0;34m:\u001b[0m\u001b[0;34m\u001b[0m\u001b[0;34m\u001b[0m\u001b[0m\n\u001b[1;32m    585\u001b[0m             \u001b[0;32mtry\u001b[0m\u001b[0;34m:\u001b[0m\u001b[0;34m\u001b[0m\u001b[0;34m\u001b[0m\u001b[0m\n\u001b[0;32m--> 586\u001b[0;31m                 \u001b[0;32mreturn\u001b[0m \u001b[0mself\u001b[0m\u001b[0;34m.\u001b[0m\u001b[0m_sock\u001b[0m\u001b[0;34m.\u001b[0m\u001b[0mrecv_into\u001b[0m\u001b[0;34m(\u001b[0m\u001b[0mb\u001b[0m\u001b[0;34m)\u001b[0m\u001b[0;34m\u001b[0m\u001b[0;34m\u001b[0m\u001b[0m\n\u001b[0m\u001b[1;32m    587\u001b[0m             \u001b[0;32mexcept\u001b[0m \u001b[0mtimeout\u001b[0m\u001b[0;34m:\u001b[0m\u001b[0;34m\u001b[0m\u001b[0;34m\u001b[0m\u001b[0m\n\u001b[1;32m    588\u001b[0m                 \u001b[0mself\u001b[0m\u001b[0;34m.\u001b[0m\u001b[0m_timeout_occurred\u001b[0m \u001b[0;34m=\u001b[0m \u001b[0;32mTrue\u001b[0m\u001b[0;34m\u001b[0m\u001b[0;34m\u001b[0m\u001b[0m\n",
      "\u001b[0;31mKeyboardInterrupt\u001b[0m: "
     ]
    }
   ],
   "source": [
    "data = glueContext.create_dynamic_frame.from_catalog(\n",
    "             database=\"test-s3\",\n",
    "             table_name=\"test-s3-table\")"
   ]
  },
  {
   "cell_type": "code",
   "execution_count": 6,
   "id": "e2c2336b",
   "metadata": {},
   "outputs": [
    {
     "ename": "NameError",
     "evalue": "name 'data' is not defined",
     "output_type": "error",
     "traceback": [
      "\u001b[0;31m\u001b[0m",
      "\u001b[0;31mNameError\u001b[0mTraceback (most recent call last)",
      "\u001b[0;32m<ipython-input-6-c653035c8f1d>\u001b[0m in \u001b[0;36m<module>\u001b[0;34m\u001b[0m\n\u001b[0;32m----> 1\u001b[0;31m \u001b[0mdata\u001b[0m \u001b[0;34m=\u001b[0m \u001b[0mDropFields\u001b[0m\u001b[0;34m.\u001b[0m\u001b[0mapply\u001b[0m\u001b[0;34m(\u001b[0m\u001b[0mdata\u001b[0m\u001b[0;34m,\u001b[0m \u001b[0mpaths\u001b[0m\u001b[0;34m=\u001b[0m\u001b[0;34m[\u001b[0m\u001b[0;34m'col6'\u001b[0m\u001b[0;34m]\u001b[0m\u001b[0;34m)\u001b[0m\u001b[0;34m\u001b[0m\u001b[0;34m\u001b[0m\u001b[0m\n\u001b[0m",
      "\u001b[0;31mNameError\u001b[0m: name 'data' is not defined"
     ]
    }
   ],
   "source": [
    "data = DropFields.apply(data, paths=['col6'])"
   ]
  },
  {
   "cell_type": "code",
   "execution_count": 6,
   "id": "36081451",
   "metadata": {},
   "outputs": [
    {
     "name": "stdout",
     "output_type": "stream",
     "text": [
      "root\n",
      "|-- col0: string\n",
      "|-- col1: string\n",
      "|-- col2: string\n",
      "|-- col3: string\n",
      "|-- col4: string\n",
      "|-- col5: string\n",
      "\n"
     ]
    }
   ],
   "source": [
    "data.printSchema()"
   ]
  },
  {
   "cell_type": "code",
   "execution_count": 7,
   "id": "7c9a14f9",
   "metadata": {},
   "outputs": [],
   "source": [
    "data = ApplyMapping.apply( frame = data, mappings = [ \n",
    "  (\"col0\",\"string\",\"id\",\"integer\"), \n",
    "  (\"col1\",\"string\",\"sepal_length\",\"double\"),\n",
    "  (\"col2\",\"string\",\"sepal_width\",\"double\"),\n",
    "  (\"col3\",\"string\",\"petal_length\",\"double\"),\n",
    "  (\"col4\",\"string\",\"petal_width\",\"double\"),\n",
    "  (\"col5\",\"string\",\"variety\",\"string\"),\n",
    "])"
   ]
  },
  {
   "cell_type": "code",
   "execution_count": 8,
   "id": "e54cdbb9",
   "metadata": {},
   "outputs": [
    {
     "name": "stdout",
     "output_type": "stream",
     "text": [
      "root\n",
      "|-- id: int\n",
      "|-- sepal_length: double\n",
      "|-- sepal_width: double\n",
      "|-- petal_length: double\n",
      "|-- petal_width: double\n",
      "|-- variety: string\n",
      "\n"
     ]
    }
   ],
   "source": [
    "data.printSchema()"
   ]
  },
  {
   "cell_type": "code",
   "execution_count": 9,
   "id": "efcc2c98",
   "metadata": {},
   "outputs": [],
   "source": [
    "data = Filter.apply(frame = data, f=lambda x: x['variety'] != ' variety ')"
   ]
  },
  {
   "cell_type": "code",
   "execution_count": 10,
   "id": "ca7d7b9e",
   "metadata": {},
   "outputs": [
    {
     "data": {
      "text/plain": [
       "<awsglue.dynamicframe.DynamicFrame at 0x7fe7bc8750f0>"
      ]
     },
     "execution_count": 10,
     "metadata": {},
     "output_type": "execute_result"
    }
   ],
   "source": [
    "glueContext.write_dynamic_frame.from_options(data, \n",
    "                                             connection_type = \"s3\", \n",
    "                                             connection_options = {\"path\": \"s3://test-353006047186/final\"}, \n",
    "                                             format = 'json')"
   ]
  },
  {
   "cell_type": "code",
   "execution_count": 11,
   "id": "e9b506cc",
   "metadata": {},
   "outputs": [],
   "source": [
    "data_dynamodb = Filter.apply(frame = data, f=lambda x: x['variety'] == 'Setosa')"
   ]
  },
  {
   "cell_type": "code",
   "execution_count": 12,
   "id": "f0492fd9",
   "metadata": {},
   "outputs": [],
   "source": [
    "#glueContext.write_dynamic_frame.from_options(data_dynamodb, connection_type = \"dynamodb\", \n",
    "#                                             connection_options = {\"dynamodb.output.tableName\": \"test-table\"}, \n",
    "#                                             )"
   ]
  },
  {
   "cell_type": "markdown",
   "id": "980d02dc",
   "metadata": {},
   "source": [
    "# PySpark - DataFrames"
   ]
  },
  {
   "cell_type": "code",
   "execution_count": 13,
   "id": "c092a331",
   "metadata": {},
   "outputs": [],
   "source": [
    "#spark = SparkSession.builder.appName(\"test\").getOrCreate()"
   ]
  },
  {
   "cell_type": "code",
   "execution_count": 14,
   "id": "5a6f266e",
   "metadata": {},
   "outputs": [],
   "source": [
    "df = data.toDF()"
   ]
  },
  {
   "cell_type": "code",
   "execution_count": 15,
   "id": "21668a03",
   "metadata": {},
   "outputs": [
    {
     "name": "stdout",
     "output_type": "stream",
     "text": [
      "+--------+------------+------------+-----------+-----------+---+\n",
      "| variety|sepal_length|petal_length|petal_width|sepal_width| id|\n",
      "+--------+------------+------------+-----------+-----------+---+\n",
      "| Setosa |         5.1|         1.4|        0.2|        3.5|  1|\n",
      "| Setosa |         4.9|         1.4|        0.2|        3.0|  2|\n",
      "+--------+------------+------------+-----------+-----------+---+\n",
      "only showing top 2 rows\n",
      "\n"
     ]
    }
   ],
   "source": [
    "df.show(2)"
   ]
  },
  {
   "cell_type": "code",
   "execution_count": 16,
   "id": "8bc24c46",
   "metadata": {},
   "outputs": [
    {
     "name": "stdout",
     "output_type": "stream",
     "text": [
      "+--------+------------+------------+-----------+-----------+---+---------+\n",
      "| variety|sepal_length|petal_length|petal_width|sepal_width| id|sepal_sum|\n",
      "+--------+------------+------------+-----------+-----------+---+---------+\n",
      "| Setosa |         5.1|         1.4|        0.2|        3.5|  1|      8.6|\n",
      "| Setosa |         4.9|         1.4|        0.2|        3.0|  2|      7.9|\n",
      "+--------+------------+------------+-----------+-----------+---+---------+\n",
      "only showing top 2 rows\n",
      "\n"
     ]
    }
   ],
   "source": [
    "df.withColumn('sepal_sum',df['sepal_length']+df['sepal_width']).show(2)"
   ]
  },
  {
   "cell_type": "code",
   "execution_count": 17,
   "id": "234167fc",
   "metadata": {},
   "outputs": [
    {
     "name": "stdout",
     "output_type": "stream",
     "text": [
      "+-------+------------+------------+-----------+-----------+---+\n",
      "|variety|sepal_length|petal_length|petal_width|sepal_width| id|\n",
      "+-------+------------+------------+-----------+-----------+---+\n",
      "| Setosa|         5.2|         1.5|        0.1|        4.1| 33|\n",
      "+-------+------------+------------+-----------+-----------+---+\n",
      "\n"
     ]
    }
   ],
   "source": [
    "df.filter( (df[\"sepal_length\"] > 5) & (df['petal_width'] < 0.2) ).show()"
   ]
  },
  {
   "cell_type": "code",
   "execution_count": 18,
   "id": "cb3e350e",
   "metadata": {},
   "outputs": [
    {
     "data": {
      "text/plain": [
       "{'variety': ' Setosa ',\n",
       " 'sepal_length': 5.1,\n",
       " 'petal_length': 1.4,\n",
       " 'petal_width': 0.2,\n",
       " 'sepal_width': 3.5,\n",
       " 'id': 1}"
      ]
     },
     "execution_count": 18,
     "metadata": {},
     "output_type": "execute_result"
    }
   ],
   "source": [
    "df.collect()[0].asDict()"
   ]
  },
  {
   "cell_type": "markdown",
   "id": "51427511",
   "metadata": {},
   "source": [
    "# PySpark - SQL"
   ]
  },
  {
   "cell_type": "code",
   "execution_count": 19,
   "id": "b3af089b",
   "metadata": {},
   "outputs": [],
   "source": [
    "df.createOrReplaceTempView(\"iris\")"
   ]
  },
  {
   "cell_type": "code",
   "execution_count": 20,
   "id": "ee78d7cb",
   "metadata": {},
   "outputs": [
    {
     "name": "stdout",
     "output_type": "stream",
     "text": [
      "+--------+------------+------------+-----------+-----------+---+\n",
      "| variety|sepal_length|petal_length|petal_width|sepal_width| id|\n",
      "+--------+------------+------------+-----------+-----------+---+\n",
      "| Setosa |         5.1|         1.4|        0.2|        3.5|  1|\n",
      "| Setosa |         5.4|         1.7|        0.4|        3.9|  6|\n",
      "+--------+------------+------------+-----------+-----------+---+\n",
      "only showing top 2 rows\n",
      "\n"
     ]
    }
   ],
   "source": [
    "spark.sql(\"SELECT * FROM iris WHERE sepal_length>5\").show(2)"
   ]
  },
  {
   "cell_type": "markdown",
   "id": "038670c8",
   "metadata": {},
   "source": [
    "# PySpark - GroupBy and Aggregate Functions"
   ]
  },
  {
   "cell_type": "code",
   "execution_count": 21,
   "id": "235f6fcd",
   "metadata": {},
   "outputs": [
    {
     "name": "stdout",
     "output_type": "stream",
     "text": [
      "+----------+-----------------+------------------+-------------------+------------------+-------+\n",
      "|   variety|avg(sepal_length)| avg(petal_length)|   avg(petal_width)|  avg(sepal_width)|avg(id)|\n",
      "+----------+-----------------+------------------+-------------------+------------------+-------+\n",
      "|   Setosa |5.031578947368421| 1.431578947368421|0.23157894736842108|3.4631578947368418|   10.0|\n",
      "| Virginica|6.587999999999998|             5.552|              2.026|2.9739999999999998|  125.5|\n",
      "|    Setosa|4.990322580645163|1.4806451612903222| 0.2548387096774194| 3.406451612903226|   35.0|\n",
      "|Versicolor|            5.936|              4.26| 1.3259999999999998|2.7700000000000005|   75.5|\n",
      "+----------+-----------------+------------------+-------------------+------------------+-------+\n",
      "\n"
     ]
    }
   ],
   "source": [
    "df.groupBy(\"variety\").mean().show()"
   ]
  },
  {
   "cell_type": "code",
   "execution_count": 22,
   "id": "97e02c55",
   "metadata": {},
   "outputs": [
    {
     "name": "stdout",
     "output_type": "stream",
     "text": [
      "+----------+------------------+------------------+------------------+------------------+-------+\n",
      "|   variety| sum(sepal_length)| sum(petal_length)|  sum(petal_width)|  sum(sepal_width)|sum(id)|\n",
      "+----------+------------------+------------------+------------------+------------------+-------+\n",
      "|   Setosa |              95.6|              27.2|               4.4|              65.8|    190|\n",
      "| Virginica| 329.3999999999999|277.59999999999997|101.29999999999998|             148.7|   6275|\n",
      "|    Setosa|154.70000000000005| 45.89999999999999| 7.900000000000001|105.60000000000001|   1085|\n",
      "|Versicolor|             296.8|212.99999999999997|              66.3|138.50000000000003|   3775|\n",
      "+----------+------------------+------------------+------------------+------------------+-------+\n",
      "\n"
     ]
    }
   ],
   "source": [
    "df.groupBy(\"variety\").sum().show()"
   ]
  },
  {
   "cell_type": "code",
   "execution_count": 23,
   "id": "a162f9ee",
   "metadata": {},
   "outputs": [
    {
     "name": "stdout",
     "output_type": "stream",
     "text": [
      "+-----------------+\n",
      "|max(sepal_length)|\n",
      "+-----------------+\n",
      "|              7.9|\n",
      "+-----------------+\n",
      "\n"
     ]
    }
   ],
   "source": [
    "df.agg({'sepal_length':'max'}).show()"
   ]
  },
  {
   "cell_type": "code",
   "execution_count": 24,
   "id": "e4cc26a9",
   "metadata": {},
   "outputs": [
    {
     "name": "stdout",
     "output_type": "stream",
     "text": [
      "+-----------------------+\n",
      "|count(DISTINCT variety)|\n",
      "+-----------------------+\n",
      "|                      4|\n",
      "+-----------------------+\n",
      "\n"
     ]
    }
   ],
   "source": [
    "df.select(countDistinct(\"variety\")).show()"
   ]
  },
  {
   "cell_type": "code",
   "execution_count": 25,
   "id": "22dfc87a",
   "metadata": {},
   "outputs": [
    {
     "name": "stdout",
     "output_type": "stream",
     "text": [
      "+-----------------+\n",
      "|avg(sepal_length)|\n",
      "+-----------------+\n",
      "|5.843333333333335|\n",
      "+-----------------+\n",
      "\n"
     ]
    }
   ],
   "source": [
    "df.select(avg('sepal_length')).show()"
   ]
  },
  {
   "cell_type": "code",
   "execution_count": 26,
   "id": "aefd8adc",
   "metadata": {},
   "outputs": [
    {
     "name": "stdout",
     "output_type": "stream",
     "text": [
      "+-------------------------+\n",
      "|stddev_samp(sepal_length)|\n",
      "+-------------------------+\n",
      "|       0.8280661279778637|\n",
      "+-------------------------+\n",
      "\n"
     ]
    }
   ],
   "source": [
    "df.select(stddev(\"sepal_length\")).show()"
   ]
  },
  {
   "cell_type": "code",
   "execution_count": 27,
   "id": "af2918cb",
   "metadata": {},
   "outputs": [
    {
     "name": "stdout",
     "output_type": "stream",
     "text": [
      "+--------+------------+------------+-----------+-----------+---+\n",
      "| variety|sepal_length|petal_length|petal_width|sepal_width| id|\n",
      "+--------+------------+------------+-----------+-----------+---+\n",
      "| Setosa |         4.3|         1.1|        0.1|        3.0| 14|\n",
      "|  Setosa|         4.4|         1.3|        0.2|        3.2| 43|\n",
      "+--------+------------+------------+-----------+-----------+---+\n",
      "only showing top 2 rows\n",
      "\n"
     ]
    }
   ],
   "source": [
    "df.orderBy(\"sepal_length\").show(2)"
   ]
  },
  {
   "cell_type": "markdown",
   "id": "ac4027b3",
   "metadata": {},
   "source": [
    "# PySpark - DataFrame"
   ]
  },
  {
   "cell_type": "code",
   "execution_count": 28,
   "id": "d9c7664b",
   "metadata": {},
   "outputs": [
    {
     "name": "stdout",
     "output_type": "stream",
     "text": [
      "+--------+------------+------------+-----------+-----------+---+\n",
      "| variety|sepal_length|petal_length|petal_width|sepal_width| id|\n",
      "+--------+------------+------------+-----------+-----------+---+\n",
      "| Setosa |         5.1|         1.4|        0.2|        3.5|  1|\n",
      "| Setosa |         4.9|         1.4|        0.2|        3.0|  2|\n",
      "+--------+------------+------------+-----------+-----------+---+\n",
      "only showing top 2 rows\n",
      "\n"
     ]
    }
   ],
   "source": [
    "df.na.drop().show(2)"
   ]
  },
  {
   "cell_type": "code",
   "execution_count": 148,
   "id": "0f4c43c7",
   "metadata": {},
   "outputs": [
    {
     "name": "stdout",
     "output_type": "stream",
     "text": [
      "+--------+------------+------------+-----------+-----------+---+\n",
      "| variety|sepal_length|petal_length|petal_width|sepal_width| id|\n",
      "+--------+------------+------------+-----------+-----------+---+\n",
      "| Setosa |         5.1|         1.4|        0.2|        3.5|  1|\n",
      "| Setosa |         4.9|         1.4|        0.2|        3.0|  2|\n",
      "+--------+------------+------------+-----------+-----------+---+\n",
      "only showing top 2 rows\n",
      "\n"
     ]
    }
   ],
   "source": [
    "df.na.fill('NEW VALUE',subset=['variety']).show(2)"
   ]
  },
  {
   "cell_type": "code",
   "execution_count": 149,
   "id": "9d85c7cc",
   "metadata": {},
   "outputs": [],
   "source": [
    "mean_val = df.select(mean(df['sepal_length'])).collect()[0][0]"
   ]
  },
  {
   "cell_type": "code",
   "execution_count": 150,
   "id": "cc0ce686",
   "metadata": {},
   "outputs": [
    {
     "name": "stdout",
     "output_type": "stream",
     "text": [
      "+--------+------------+------------+-----------+-----------+---+\n",
      "| variety|sepal_length|petal_length|petal_width|sepal_width| id|\n",
      "+--------+------------+------------+-----------+-----------+---+\n",
      "| Setosa |         5.1|         1.4|        0.2|        3.5|  1|\n",
      "| Setosa |         4.9|         1.4|        0.2|        3.0|  2|\n",
      "+--------+------------+------------+-----------+-----------+---+\n",
      "only showing top 2 rows\n",
      "\n"
     ]
    }
   ],
   "source": [
    "df.na.fill(mean_val, subset=['sepal_length']).show(2)"
   ]
  },
  {
   "cell_type": "markdown",
   "id": "7e6c5ba6",
   "metadata": {},
   "source": [
    "# PySpark - Dates and Timestamps"
   ]
  },
  {
   "cell_type": "code",
   "execution_count": 151,
   "id": "eff825cc",
   "metadata": {},
   "outputs": [],
   "source": [
    "df1 = df.withColumn(\"date\", date_format(current_timestamp(), 'yyyy-MM-dd : hh-mm-ss'))"
   ]
  },
  {
   "cell_type": "code",
   "execution_count": 152,
   "id": "4cd24461",
   "metadata": {},
   "outputs": [
    {
     "name": "stdout",
     "output_type": "stream",
     "text": [
      "+----------------+\n",
      "|dayofmonth(date)|\n",
      "+----------------+\n",
      "|               7|\n",
      "|               7|\n",
      "+----------------+\n",
      "only showing top 2 rows\n",
      "\n"
     ]
    }
   ],
   "source": [
    "df1.select(dayofmonth(df1['date'])).show(2)"
   ]
  },
  {
   "cell_type": "code",
   "execution_count": 153,
   "id": "e1cedd0b",
   "metadata": {},
   "outputs": [
    {
     "name": "stdout",
     "output_type": "stream",
     "text": [
      "+----------+\n",
      "|year(date)|\n",
      "+----------+\n",
      "|      2022|\n",
      "|      2022|\n",
      "+----------+\n",
      "only showing top 2 rows\n",
      "\n"
     ]
    }
   ],
   "source": [
    "df1.select(year(df1['date'])).show(2)"
   ]
  },
  {
   "cell_type": "code",
   "execution_count": 154,
   "id": "0860c832",
   "metadata": {},
   "outputs": [
    {
     "name": "stdout",
     "output_type": "stream",
     "text": [
      "+----+-----------------+------------------+-----------------+-----------------+-------+---------+\n",
      "|Year|avg(sepal_length)| avg(petal_length)| avg(petal_width)| avg(sepal_width)|avg(id)|avg(year)|\n",
      "+----+-----------------+------------------+-----------------+-----------------+-------+---------+\n",
      "|2022|5.843333333333335|3.7580000000000027|1.199333333333334|3.057333333333334|   75.5|   2022.0|\n",
      "+----+-----------------+------------------+-----------------+-----------------+-------+---------+\n",
      "\n"
     ]
    }
   ],
   "source": [
    "df1.withColumn(\"year\",year(df1['date'])).groupBy(\"Year\").mean().show(2)"
   ]
  },
  {
   "cell_type": "code",
   "execution_count": 155,
   "id": "8947d4e4",
   "metadata": {},
   "outputs": [
    {
     "ename": "AttributeError",
     "evalue": "'SparkSession' object has no attribute 'getActiveSession'",
     "output_type": "error",
     "traceback": [
      "\u001b[0;31m\u001b[0m",
      "\u001b[0;31mAttributeError\u001b[0mTraceback (most recent call last)",
      "\u001b[0;32m<ipython-input-155-e744f93b8f1b>\u001b[0m in \u001b[0;36m<module>\u001b[0;34m\u001b[0m\n\u001b[0;32m----> 1\u001b[0;31m \u001b[0mspark\u001b[0m\u001b[0;34m.\u001b[0m\u001b[0mgetActiveSession\u001b[0m\u001b[0;34m(\u001b[0m\u001b[0;34m)\u001b[0m\u001b[0;34m\u001b[0m\u001b[0;34m\u001b[0m\u001b[0m\n\u001b[0m",
      "\u001b[0;31mAttributeError\u001b[0m: 'SparkSession' object has no attribute 'getActiveSession'"
     ]
    }
   ],
   "source": [
    "spark.getActiveSession()"
   ]
  },
  {
   "cell_type": "code",
   "execution_count": 104,
   "id": "4e2c07cf",
   "metadata": {},
   "outputs": [],
   "source": [
    "#spark.stop()"
   ]
  },
  {
   "cell_type": "code",
   "execution_count": 117,
   "id": "464aa9b3",
   "metadata": {},
   "outputs": [],
   "source": [
    "job.commit()"
   ]
  },
  {
   "cell_type": "code",
   "execution_count": null,
   "id": "5b100606",
   "metadata": {},
   "outputs": [],
   "source": []
  }
 ],
 "metadata": {
  "kernelspec": {
   "display_name": "Python 3",
   "language": "python",
   "name": "python3"
  },
  "language_info": {
   "codemirror_mode": {
    "name": "ipython",
    "version": 3
   },
   "file_extension": ".py",
   "mimetype": "text/x-python",
   "name": "python",
   "nbconvert_exporter": "python",
   "pygments_lexer": "ipython3",
   "version": "3.6.15"
  }
 },
 "nbformat": 4,
 "nbformat_minor": 5
}
